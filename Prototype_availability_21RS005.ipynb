{
 "cells": [
  {
   "cell_type": "code",
   "execution_count": 38,
   "id": "eba8296e",
   "metadata": {},
   "outputs": [
    {
     "name": "stdout",
     "output_type": "stream",
     "text": [
      "2023年10月　機器名：走査型電子顕微鏡\n"
     ]
    }
   ],
   "source": [
    "year, month,facility = 2023, 10, '走査型電子顕微鏡';\n",
    "print(f\"{year}年{month}月　機器名：{facility}\")"
   ]
  },
  {
   "cell_type": "code",
   "execution_count": 39,
   "id": "e9ebde8a",
   "metadata": {},
   "outputs": [
    {
     "name": "stdout",
     "output_type": "stream",
     "text": [
      "\u001b[31mサンプル文字列\u001b[0m\n"
     ]
    }
   ],
   "source": [
    "import datetime\n",
    "import yaml\n",
    "import ctypes\n",
    " \n",
    "ENABLE_PROCESSED_OUTPUT = 0x0001\n",
    "ENABLE_WRAP_AT_EOL_OUTPUT = 0x0002\n",
    "ENABLE_VIRTUAL_TERMINAL_PROCESSING = 0x0004\n",
    "MODE = ENABLE_PROCESSED_OUTPUT + ENABLE_WRAP_AT_EOL_OUTPUT + ENABLE_VIRTUAL_TERMINAL_PROCESSING\n",
    " \n",
    "kernel32 = ctypes.windll.kernel32\n",
    "handle = kernel32.GetStdHandle(-11)\n",
    "kernel32.SetConsoleMode(handle, MODE)\n",
    "red = '\\033[31m'\n",
    "end = '\\033[0m'\n",
    "print(red + \"サンプル文字列\" + end)"
   ]
  },
  {
   "cell_type": "code",
   "execution_count": 40,
   "id": "5958bcd5",
   "metadata": {},
   "outputs": [
    {
     "name": "stdout",
     "output_type": "stream",
     "text": [
      "    October 2023\n",
      "Mo Tu We Th Fr Sa Su\n",
      "                   1\n",
      " 2  3  4  5  6  7  8\n",
      " 9 10 11 12 13 14 15\n",
      "16 17 18 19 20 21 22\n",
      "23 24 25 26 27 28 29\n",
      "30 31\n",
      "\n",
      "9:00～12:00\n",
      "(6, 31)\n"
     ]
    }
   ],
   "source": [
    "import calendar\n",
    "dt_month_days = calendar.month(year, month)\n",
    "print(dt_month_days)\n",
    "weekdays = ['月','火','水','木','金','土','日']\n",
    "timeslots = ['9:00～12:00', '12:00～15:00', '15:00～17:00'];\n",
    "print(timeslots[0])\n",
    "dt_month_firstday = calendar.monthrange(year, month)\n",
    "print(dt_month_firstday)"
   ]
  },
  {
   "cell_type": "code",
   "execution_count": 41,
   "id": "8d8b6ece",
   "metadata": {},
   "outputs": [
    {
     "name": "stdout",
     "output_type": "stream",
     "text": [
      "この機器はあります．\n",
      "走査型電子顕微鏡\n"
     ]
    }
   ],
   "source": [
    "facilities = ['走査型電子顕微鏡', '3Dデジタルファインスコープ', \n",
    "              '高精細デジタルマイクロスコープ']\n",
    "count = 0\n",
    "exist = 0\n",
    "apo_max = 3\n",
    "for fac in range(len(facilities)):\n",
    "    if(facility == facilities[fac]):\n",
    "        print('この機器はあります．')\n",
    "        exist = 1\n",
    "    else:\n",
    "        count += 1\n",
    "if(count == len(facilities)):\n",
    "    print('この機器はありません.')\n",
    "print(facility)"
   ]
  },
  {
   "cell_type": "code",
   "execution_count": 42,
   "id": "b525552a",
   "metadata": {},
   "outputs": [],
   "source": [
    "apo = [{\"date\":\"2023-10-02\", \"facility\": 1, \"timeslot\": 1},\n",
    "       {\"date\":\"2023-10-06\", \"facility\": 0, \"timeslot\": 0},\n",
    "       {\"date\":\"2023-10-09\", \"facility\": 2, \"timeslot\": 2},\n",
    "       {\"date\":\"2023-10-11\", \"facility\": 1, \"timeslot\": 1},\n",
    "       {\"date\":\"2023-10-19\", \"facility\": 0, \"timeslot\": 0},\n",
    "       {\"date\":\"2023-10-19\", \"facility\": 0, \"timeslot\": 1},\n",
    "       {\"date\":\"2023-10-19\", \"facility\": 0, \"timeslot\": 2},\n",
    "       {\"date\":\"2023-10-20\", \"facility\": 2, \"timeslot\": 0},\n",
    "       {\"date\":\"2023-10-23\", \"facility\": 1, \"timeslot\": 2},\n",
    "       {\"date\":\"2023-10-27\", \"facility\": 0, \"timeslot\": 0},\n",
    "       {\"date\":\"2023-10-27\", \"facility\": 0, \"timeslot\": 2},\n",
    "       {\"date\":\"2023-10-27\", \"facility\": 0, \"timeslot\": 2},\n",
    "    ]"
   ]
  },
  {
   "cell_type": "code",
   "execution_count": 43,
   "id": "318dbb27",
   "metadata": {},
   "outputs": [
    {
     "name": "stdout",
     "output_type": "stream",
     "text": [
      "2023年10月\n",
      "施設名：走査型電子顕微鏡\n",
      "\u001b[31m01 (日): 休業日\u001b[0m\n",
      "02 (月): ○\n",
      "03 (火): ○\n",
      "04 (水): ○\n",
      "05 (木): ○\n",
      "06 (金): △\n",
      "予約済み時間帯：9:00～12:00\n",
      "\u001b[31m07 (土): 休業日\u001b[0m\n",
      "\u001b[31m08 (日): 休業日\u001b[0m\n",
      "09 (月): ○\n",
      "10 (火): ○\n",
      "11 (水): ○\n",
      "12 (木): ○\n",
      "13 (金): ○\n",
      "\u001b[31m14 (土): 休業日\u001b[0m\n",
      "\u001b[31m15 (日): 休業日\u001b[0m\n",
      "16 (月): ○\n",
      "17 (火): ○\n",
      "18 (水): ○\n",
      "19 (木): ×\n",
      "予約済み時間帯：9:00～12:00, 12:00～15:00, 15:00～17:00\n",
      "20 (金): ○\n",
      "\u001b[31m21 (土): 休業日\u001b[0m\n",
      "\u001b[31m22 (日): 休業日\u001b[0m\n",
      "23 (月): ○\n",
      "24 (火): ○\n",
      "25 (水): ○\n",
      "26 (木): ○\n",
      "27 (金): ×\n",
      "エラー　重複した予約があります\n",
      "予約済み時間帯：9:00～12:00, 15:00～17:00, 15:00～17:00\n",
      "\u001b[31m28 (土): 休業日\u001b[0m\n",
      "\u001b[31m29 (日): 休業日\u001b[0m\n",
      "30 (月): ○\n",
      "31 (火): ○\n"
     ]
    }
   ],
   "source": [
    "if facility in facilities:\n",
    "    print(f\"{year}年{month}月\")\n",
    "    print(f\"施設名：{facility}\")\n",
    "    for day in range(1, dt_month_firstday[1] + 1):\n",
    "        formatted_day = format(day, \"02\")\n",
    "        weekday = (dt_month_firstday[0] + day - 1) % 7\n",
    "        weekday_name = weekdays[weekday]\n",
    "        matching_entries = []\n",
    "        if weekday in [5, 6]:\n",
    "            print(red + f\"{formatted_day} ({weekday_name}): 休業日\" + end)\n",
    "        else:\n",
    "            matching_entries = [entry for entry in apo \n",
    "                                if entry.get('date') \n",
    "                                == f\"{year}-{month}-{formatted_day}\" \n",
    "                                and entry.get('facility') \n",
    "                                == facilities.index(facility)] \n",
    "            apo_count = apo_max - len(matching_entries)\n",
    "            if apo_count == 0:\n",
    "                print(f\"{formatted_day} ({weekday_name}): ×\")\n",
    "            elif apo_count == 2 or apo_count == 1:\n",
    "                print(f\"{formatted_day} ({weekday_name}): △\")\n",
    "            elif apo_count == 3:\n",
    "                print(f\"{formatted_day} ({weekday_name}): ○\")\n",
    "            else:\n",
    "                \n",
    "                print(\n",
    "                    f\"{formatted_day} ({weekday_name}): エラー 予約の数が多すぎます\")\n",
    "        if matching_entries and weekday != 5 and weekday != 6:\n",
    "            reserved_timeslots = [timeslots[int(entry.get('timeslot'))] \n",
    "                                  for entry in matching_entries]\n",
    "            if len(set(reserved_timeslots)) != len(reserved_timeslots):\n",
    "                print(\"エラー　重複した予約があります\")\n",
    "            print(f\"予約済み時間帯：{', '.join(reserved_timeslots)}\")\n",
    "else:\n",
    "    print(\"この施設名は存在しません．\")\n"
   ]
  },
  {
   "cell_type": "code",
   "execution_count": null,
   "id": "dc6cbf7b",
   "metadata": {},
   "outputs": [],
   "source": []
  }
 ],
 "metadata": {
  "kernelspec": {
   "display_name": "Python 3 (ipykernel)",
   "language": "python",
   "name": "python3"
  },
  "language_info": {
   "codemirror_mode": {
    "name": "ipython",
    "version": 3
   },
   "file_extension": ".py",
   "mimetype": "text/x-python",
   "name": "python",
   "nbconvert_exporter": "python",
   "pygments_lexer": "ipython3",
   "version": "3.11.3"
  }
 },
 "nbformat": 4,
 "nbformat_minor": 5
}
