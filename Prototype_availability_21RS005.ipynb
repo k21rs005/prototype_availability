{
 "cells": [
  {
   "cell_type": "code",
   "execution_count": 7,
   "id": "eba8296e",
   "metadata": {},
   "outputs": [
    {
     "name": "stdout",
     "output_type": "stream",
     "text": [
      "2023年10月　機器名：走査型電子顕微\n"
     ]
    }
   ],
   "source": [
    "year, month,facility = 2023, 10, '走査型電子顕微鏡';\n",
    "print(f\"{year}年{month}月　機器名：{facility}\")"
   ]
  },
  {
   "cell_type": "code",
   "execution_count": 8,
   "id": "e9ebde8a",
   "metadata": {},
   "outputs": [],
   "source": [
    "import datetime\n",
    "import yaml"
   ]
  },
  {
   "cell_type": "code",
   "execution_count": 9,
   "id": "5958bcd5",
   "metadata": {},
   "outputs": [
    {
     "name": "stdout",
     "output_type": "stream",
     "text": [
      "    October 2023\n",
      "Mo Tu We Th Fr Sa Su\n",
      "                   1\n",
      " 2  3  4  5  6  7  8\n",
      " 9 10 11 12 13 14 15\n",
      "16 17 18 19 20 21 22\n",
      "23 24 25 26 27 28 29\n",
      "30 31\n",
      "\n",
      "9:00～12:00\n",
      "(6, 31)\n"
     ]
    }
   ],
   "source": [
    "import calendar\n",
    "dt_month_days = calendar.month(year, month)\n",
    "print(dt_month_days)\n",
    "weekdays = ['月','火','水','木','金','土','日']\n",
    "timeslots = ['9:00～12:00', '12:00～15:00', '15:00～17:00'];\n",
    "print(timeslots[0])\n",
    "dt_month_firstday = calendar.monthrange(year, month)\n",
    "print(dt_month_firstday)"
   ]
  },
  {
   "cell_type": "code",
   "execution_count": 10,
   "id": "8d8b6ece",
   "metadata": {},
   "outputs": [
    {
     "name": "stdout",
     "output_type": "stream",
     "text": [
      "この機器はありません.\n",
      "走査型電子顕微\n"
     ]
    }
   ],
   "source": [
    "facilities = ['走査型電子顕微鏡', '3Dデジタルファインスコープ', \n",
    "              '高精細デジタルマイクロスコープ']\n",
    "count = 0\n",
    "exist = 0\n",
    "apo_max = 3\n",
    "for fac in range(len(facilities)):\n",
    "    if(facility == facilities[fac]):\n",
    "        print('この機器はあります．')\n",
    "        exist = 1\n",
    "    else:\n",
    "        count += 1\n",
    "if(count == len(facilities)):\n",
    "    print('この機器はありません.')\n",
    "print(facility)"
   ]
  },
  {
   "cell_type": "code",
   "execution_count": 11,
   "id": "b525552a",
   "metadata": {},
   "outputs": [],
   "source": [
    "apo = [{\"date\":\"2023-10-02\", \"facility\": 1, \"timeslot\": 1},\n",
    "       {\"date\":\"2023-10-06\", \"facility\": 0, \"timeslot\": 0},\n",
    "       {\"date\":\"2023-10-09\", \"facility\": 2, \"timeslot\": 2},\n",
    "       {\"date\":\"2023-10-11\", \"facility\": 1, \"timeslot\": 1},\n",
    "       {\"date\":\"2023-10-19\", \"facility\": 0, \"timeslot\": 0},\n",
    "       {\"date\":\"2023-10-19\", \"facility\": 0, \"timeslot\": 1},\n",
    "       {\"date\":\"2023-10-19\", \"facility\": 0, \"timeslot\": 2},\n",
    "       {\"date\":\"2023-10-20\", \"facility\": 2, \"timeslot\": 0},\n",
    "       {\"date\":\"2023-10-23\", \"facility\": 1, \"timeslot\": 2},\n",
    "       {\"date\":\"2023-10-27\", \"facility\": 0, \"timeslot\": 0},\n",
    "       {\"date\":\"2023-10-27\", \"facility\": 0, \"timeslot\": 2},\n",
    "       {\"date\":\"2023-10-27\", \"facility\": 0, \"timeslot\": 2},\n",
    "    ]"
   ]
  },
  {
   "cell_type": "code",
   "execution_count": 12,
   "id": "318dbb27",
   "metadata": {},
   "outputs": [
    {
     "name": "stdout",
     "output_type": "stream",
     "text": [
      "この施設名は存在しません．\n"
     ]
    }
   ],
   "source": [
    "if facility in facilities:\n",
    "    print(f\"施設名：{facility}\")\n",
    "    for day in range(1, dt_month_firstday[1] + 1):\n",
    "        formatted_day = format(day, \"02\")\n",
    "        weekday = (dt_month_firstday[0] + day - 1) % 7\n",
    "        weekday_name = weekdays[weekday]\n",
    "        matching_entries = []\n",
    "        if weekday in [5, 6]:\n",
    "            print(f\"{formatted_day} ({weekday_name}): ×\")\n",
    "        else:\n",
    "            matching_entries = [entry for entry in apo \n",
    "                                if entry.get('date') == f\"{year}-{month}-{formatted_day}\" \n",
    "                                and entry.get('facility') == facilities.index(facility)] \n",
    "            apo_count = apo_max - len(matching_entries)\n",
    "            if apo_count == 0:\n",
    "                print(f\"{formatted_day} ({weekday_name}): ×\")\n",
    "            elif apo_count == 2 or apo_count == 1:\n",
    "                print(f\"{formatted_day} ({weekday_name}): △\")\n",
    "            elif apo_count == 3:\n",
    "                print(f\"{formatted_day} ({weekday_name}): ○\")\n",
    "            else:\n",
    "                print(f\"{formatted_day} ({weekday_name}): エラー 予約の数が多すぎます\")\n",
    "        if matching_entries and weekday != 5 and weekday != 6:\n",
    "            reserved_timeslots = [timeslots[int(entry.get('timeslot'))] \n",
    "                                  for entry in matching_entries]\n",
    "            if len(set(reserved_timeslots)) != len(reserved_timeslots):\n",
    "                print(\"エラー　重複した予約があります\")\n",
    "            print(f\"予約済み時間帯：{', '.join(reserved_timeslots)}\")\n",
    "else:\n",
    "    print(\"この施設名は存在しません．\")\n"
   ]
  },
  {
   "cell_type": "code",
   "execution_count": null,
   "id": "348c933c",
   "metadata": {},
   "outputs": [],
   "source": []
  },
  {
   "cell_type": "code",
   "execution_count": null,
   "id": "5cbd0c0f",
   "metadata": {},
   "outputs": [],
   "source": []
  }
 ],
 "metadata": {
  "kernelspec": {
   "display_name": "Python 3 (ipykernel)",
   "language": "python",
   "name": "python3"
  },
  "language_info": {
   "codemirror_mode": {
    "name": "ipython",
    "version": 3
   },
   "file_extension": ".py",
   "mimetype": "text/x-python",
   "name": "python",
   "nbconvert_exporter": "python",
   "pygments_lexer": "ipython3",
   "version": "3.11.3"
  }
 },
 "nbformat": 4,
 "nbformat_minor": 5
}
